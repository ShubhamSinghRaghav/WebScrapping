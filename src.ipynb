{
 "cells": [
  {
   "cell_type": "markdown",
   "metadata": {},
   "source": [
    "# Scrapping data of Consumers"
   ]
  },
  {
   "cell_type": "code",
   "execution_count": 1,
   "metadata": {},
   "outputs": [],
   "source": [
    "import pandas\n",
    "from bs4 import BeautifulSoup as bs\n",
    "import requests\n",
    "from selenium import webdriver\n",
    "from requests import get\n",
    "import time\n",
    "from openpyxl import load_workbook"
   ]
  },
  {
   "cell_type": "markdown",
   "metadata": {},
   "source": [
    "## Opening the file with given src_no"
   ]
  },
  {
   "cell_type": "code",
   "execution_count": 2,
   "metadata": {},
   "outputs": [],
   "source": [
    "f = open(\"list.txt\", \"r\")\n",
    "arr = []\n",
    "for x in f:\n",
    "    arr.append(x)"
   ]
  },
  {
   "cell_type": "code",
   "execution_count": 3,
   "metadata": {},
   "outputs": [],
   "source": [
    "result = []\n",
    "filename = \"result.xlsx\"\n",
    "wb = load_workbook(filename)\n",
    "ws = wb.worksheets[0]"
   ]
  },
  {
   "cell_type": "markdown",
   "metadata": {},
   "source": [
    "## Using Selenium WebDriver for Scrapping"
   ]
  },
  {
   "cell_type": "code",
   "execution_count": 4,
   "metadata": {
    "scrolled": true
   },
   "outputs": [],
   "source": [
    "url = \"http://www.epos.mp.gov.in/SRC_Trans_Int.jsp\"\n",
    "driver = webdriver.Chrome(\"chromedriver\")\n",
    "driver.get(url)\n",
    "for i in arr:\n",
    "    print(i+\" done!\")\n",
    "    driver.find_element_by_name(\"src_no\").send_keys(i)\n",
    "    driver.find_element_by_css_selector('button.button.button2').click()\n",
    "    time.sleep(8)\n",
    "    table = driver.find_element_by_xpath(\"/html/body/div[1]/div[3]/div/div[3]/table[1]/tbody\")\n",
    "    kaka = table.text.split('\\n')[3:]\n",
    "    result.append(kaka)\n",
    "    driver.find_element_by_name(\"src_no\").clear()\n",
    "driver.quit()"
   ]
  },
  {
   "cell_type": "markdown",
   "metadata": {},
   "source": [
    "## Adding values to Excel file "
   ]
  },
  {
   "cell_type": "code",
   "execution_count": 5,
   "metadata": {},
   "outputs": [],
   "source": [
    "e=2\n",
    "for i in range(len(arr)):\n",
    "    src = arr[i]\n",
    "    v1=src\n",
    "    v2=''\n",
    "    for j in result[i]:\n",
    "        v3='No'\n",
    "        v2 = j.split(\" \")[1];\n",
    "        if j.find('Not')==-1:\n",
    "            v3 = 'Yes'\n",
    "        col1 = \"A\"+ str(e)\n",
    "        col2 = \"B\"+str(e)\n",
    "        col3 = \"c\"+str(e)\n",
    "        e=e+1\n",
    "        ws[col1] = v1\n",
    "        ws[col2] = v2\n",
    "        ws[col3] = v3"
   ]
  },
  {
   "cell_type": "markdown",
   "metadata": {},
   "source": [
    "### save the workbook"
   ]
  },
  {
   "cell_type": "code",
   "execution_count": 6,
   "metadata": {},
   "outputs": [],
   "source": [
    "wb.save(filename)"
   ]
  }
 ],
 "metadata": {
  "kernelspec": {
   "display_name": "Python 3",
   "language": "python",
   "name": "python3"
  },
  "language_info": {
   "codemirror_mode": {
    "name": "ipython",
    "version": 3
   },
   "file_extension": ".py",
   "mimetype": "text/x-python",
   "name": "python",
   "nbconvert_exporter": "python",
   "pygments_lexer": "ipython3",
   "version": "3.7.6"
  }
 },
 "nbformat": 4,
 "nbformat_minor": 4
}
